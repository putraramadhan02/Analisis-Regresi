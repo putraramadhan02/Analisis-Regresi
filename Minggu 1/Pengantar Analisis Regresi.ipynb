{
  "cells": [
    {
      "cell_type": "markdown",
      "metadata": {
        "id": "YuM9IP7fNvDQ"
      },
      "source": [
        "# **1. Pengenalan Python**"
      ]
    },
    {
      "cell_type": "markdown",
      "metadata": {
        "id": "1wGFf9_dOoAk"
      },
      "source": [
        "Python adalah bahasa pemrograman yang digunakan secara luas untuk analisis data, statistik, dan visualisasi. Python mendukung banyak pustaka populer seperti NumPy, pandas, Matplotlib, dan scikit-learn untuk kebutuhan analisis data dan machine learning."
      ]
    },
    {
      "cell_type": "markdown",
      "metadata": {
        "id": "86qXkO00OudC"
      },
      "source": [
        "# **2. Tipe Data di Python**"
      ]
    },
    {
      "cell_type": "markdown",
      "metadata": {
        "id": "Q3mupMOyOx9B"
      },
      "source": [
        "## **a. List**\n",
        "List adalah tipe data yang paling sederhana dan dapat menyimpan elemen dengan tipe yang berbeda."
      ]
    },
    {
      "cell_type": "code",
      "execution_count": 2,
      "metadata": {
        "colab": {
          "base_uri": "https://localhost:8080/"
        },
        "id": "3GdW2hmsQBVM",
        "outputId": "7037a754-0261-468a-a805-2079500d6b23"
      },
      "outputs": [
        {
          "name": "stdout",
          "output_type": "stream",
          "text": [
            "[1, 2, 3, 4]\n",
            "['A', 'B', 'C', 'D']\n",
            "[True, False, True]\n",
            "[1, 2, 3, 4, 1, 2, 3, 4]\n",
            "[2, 3]\n"
          ]
        }
      ],
      "source": [
        "# Membuat list\n",
        "angka = [1, 2, 3, 4]\n",
        "teks = [\"A\", \"B\", \"C\", \"D\"]\n",
        "logik = [True, False, True]\n",
        "\n",
        "print(angka)\n",
        "print(teks)\n",
        "print(logik)\n",
        "\n",
        "# Operasi pada list\n",
        "print(angka * 2)  # Mengulang elemen\n",
        "print(angka[1:3])  # Slicing elemen"
      ]
    },
    {
      "cell_type": "markdown",
      "metadata": {
        "id": "cjR_21V1YNSi"
      },
      "source": [
        "## **b. Array (NumPy)**\n",
        "Array adalah struktur data dua dimensi yang mendukung operasi matematis."
      ]
    },
    {
      "cell_type": "code",
      "execution_count": 4,
      "metadata": {
        "colab": {
          "base_uri": "https://localhost:8080/"
        },
        "id": "-xZemAc6YSEg",
        "outputId": "fc3c4841-f088-4870-d654-21daea51623e"
      },
      "outputs": [
        {
          "name": "stdout",
          "output_type": "stream",
          "text": [
            "[[1 2 3]\n",
            " [4 5 6]]\n",
            "(2, 3)\n",
            "[2 5]\n"
          ]
        }
      ],
      "source": [
        "import numpy as np\n",
        "\n",
        "# Membuat array\n",
        "mat = np.array([[1, 2, 3], [4, 5, 6]])\n",
        "print(mat)\n",
        "\n",
        "# Operasi pada array\n",
        "print(mat.shape)  # Ukuran array\n",
        "print(mat[:, 1])  # Ambil kolom kedua"
      ]
    },
    {
      "cell_type": "markdown",
      "metadata": {
        "id": "wqEtqmMAYXsv"
      },
      "source": [
        "## **c. Data Frame (pandas)**\n",
        "DataFrame adalah struktur data dua dimensi dari pustaka pandas, digunakan untuk manipulasi data."
      ]
    },
    {
      "cell_type": "code",
      "execution_count": 5,
      "metadata": {
        "colab": {
          "base_uri": "https://localhost:8080/"
        },
        "id": "sQL0KK7OYcpF",
        "outputId": "025bdc74-d067-4669-d33a-fdd3c672d371"
      },
      "outputs": [
        {
          "name": "stdout",
          "output_type": "stream",
          "text": [
            "   Nama  Umur\n",
            "0  Andi    25\n",
            "1  Budi    30\n"
          ]
        }
      ],
      "source": [
        "import pandas as pd\n",
        "\n",
        "# Membuat DataFrame\n",
        "data = pd.DataFrame({\n",
        "    \"Nama\": [\"Andi\", \"Budi\"],\n",
        "    \"Umur\": [25, 30]\n",
        "})\n",
        "print(data)"
      ]
    },
    {
      "cell_type": "markdown",
      "metadata": {
        "id": "4xw7JRbiZaLx"
      },
      "source": [
        "# **3. Membaca Data ke Python**"
      ]
    },
    {
      "cell_type": "markdown",
      "metadata": {
        "id": "NUofkUfLZeKb"
      },
      "source": [
        "## **a. Excel**"
      ]
    },
    {
      "cell_type": "code",
      "execution_count": 6,
      "metadata": {
        "id": "7UG3zxnWZioa"
      },
      "outputs": [
        {
          "name": "stdout",
          "output_type": "stream",
          "text": [
            "    Nama Jenis Kelamin Pendidikan Terakhir         Status\n",
            "0   Cika     Perempuan                  S1        Menikah\n",
            "1   Joni     Laki-Laki                 SMA        Menikah\n",
            "2   Dina     Perempuan                  S2  Belum Menikah\n",
            "3  Dilan     Laki-Laki                  S2        Menikah\n",
            "4   Jaya     Laki-Laki                 SMP  Belum Menikah\n"
          ]
        }
      ],
      "source": [
        "# Install pustaka terlebih dahulu, gunakan openpyxl atau pandas\n",
        "# !pip install pandas openpyxl\n",
        "\n",
        "# Membaca file Excel\n",
        "data_excel = pd.read_excel(\"Data/Data_excel_mainan.xlsx\")\n",
        "print(data_excel.head())"
      ]
    },
    {
      "cell_type": "markdown",
      "metadata": {
        "id": "nBMUDZEyZvbk"
      },
      "source": [
        "## **b. CSV**"
      ]
    },
    {
      "cell_type": "code",
      "execution_count": 7,
      "metadata": {
        "id": "lg1pOC-sZyy3"
      },
      "outputs": [
        {
          "name": "stdout",
          "output_type": "stream",
          "text": [
            "    Nama Jenis Kelamin Pendidikan Terakhir         Status\n",
            "0   Cika     Perempuan                  S1        Menikah\n",
            "1   Joni     Laki-Laki                 SMA        Menikah\n",
            "2   Dina     Perempuan                  S2  Belum Menikah\n",
            "3  Dilan     Laki-Laki                  S2        Menikah\n",
            "4   Jaya     Laki-Laki                 SMP  Belum Menikah\n"
          ]
        }
      ],
      "source": [
        "# Membaca file CSV\n",
        "data_csv = pd.read_csv(\"Data/Data_csv_mainan.csv\")\n",
        "print(data_csv.head())"
      ]
    },
    {
      "cell_type": "markdown",
      "metadata": {
        "id": "zAU9g3_gZ29e"
      },
      "source": [
        "# **4. Manipulasi Data Frame**"
      ]
    },
    {
      "cell_type": "markdown",
      "metadata": {
        "id": "COXf1rtVfO2x"
      },
      "source": [
        "## **a. Mengambil Kolom dari Data Frame**\n",
        "Gunakan nama kolom atau indeks."
      ]
    },
    {
      "cell_type": "code",
      "execution_count": 8,
      "metadata": {
        "id": "ybTxBhw-fZcy"
      },
      "outputs": [
        {
          "name": "stdout",
          "output_type": "stream",
          "text": [
            "0       Cika\n",
            "1       Joni\n",
            "2       Dina\n",
            "3      Dilan\n",
            "4       Jaya\n",
            "5       Yadi\n",
            "6       Siti\n",
            "7    Munaroh\n",
            "8        Boy\n",
            "9       Girl\n",
            "Name: Nama, dtype: object\n",
            "0    Perempuan\n",
            "1    Laki-Laki\n",
            "2    Perempuan\n",
            "3    Laki-Laki\n",
            "4    Laki-Laki\n",
            "5    Laki-Laki\n",
            "6    Perempuan\n",
            "7    Perempuan\n",
            "8    Laki-Laki\n",
            "9    Perempuan\n",
            "Name: Jenis Kelamin, dtype: object\n"
          ]
        }
      ],
      "source": [
        "# Mengambil kolom Nama\n",
        "print(data_excel[\"Nama\"])\n",
        "\n",
        "# Mengambil kolom kedua\n",
        "print(data_csv.iloc[:, 1])"
      ]
    },
    {
      "cell_type": "markdown",
      "metadata": {
        "id": "9uKybQCLfch4"
      },
      "source": [
        "## **b. Menggabungkan Kolom**\n",
        "Gunakan fungsi pd.concat() untuk menggabungkan kolom."
      ]
    },
    {
      "cell_type": "code",
      "execution_count": 9,
      "metadata": {
        "id": "W4fRF0E4fgEY"
      },
      "outputs": [
        {
          "name": "stdout",
          "output_type": "stream",
          "text": [
            "      Nama Jenis Kelamin Pendidikan Terakhir         Status  Skor\n",
            "0     Cika     Perempuan                  S1        Menikah   100\n",
            "1     Joni     Laki-Laki                 SMA        Menikah    85\n",
            "2     Dina     Perempuan                  S2  Belum Menikah   100\n",
            "3    Dilan     Laki-Laki                  S2        Menikah    85\n",
            "4     Jaya     Laki-Laki                 SMP  Belum Menikah   100\n",
            "5     Yadi     Laki-Laki                 SMA  Belum Menikah    85\n",
            "6     Siti     Perempuan                 SMP        Menikah   100\n",
            "7  Munaroh     Perempuan                  SD        Menikah    85\n",
            "8      Boy     Laki-Laki                  S1        Menikah   100\n",
            "9     Girl     Perempuan                  S3  Belum Menikah    85\n"
          ]
        },
        {
          "data": {
            "text/plain": [
              "'\\n1. data_excel[\"Skor\"]:\\nIni adalah sintaks untuk mengakses atau membuat kolom baru dalam DataFrame data_excel. Jika kolom \"Skor\" belum ada, kolom tersebut akan dibuat.\\nJika sudah ada, nilai-nilainya akan diganti dengan nilai yang diberikan.\\n2. [100, 85] * (len(data_excel) // 2):\\n[100, 85] adalah sebuah list yang berisi dua nilai, yaitu 100 dan 85.\\n3. len(data_excel) mengembalikan jumlah baris dalam DataFrame data_excel.\\nlen(data_excel) // 2 melakukan pembagian integer (divisi) dengan 2, yang menghasilkan setengah dari jumlah baris dalam DataFrame.\\n4. [100, 85] * (len(data_excel) // 2) mengulang list [100, 85] sebanyak len(data_excel) // 2 kali. Misalnya, jika len(data_excel) adalah 6,\\nmaka [100, 85] * 3 akan menghasilkan [100, 85, 100, 85, 100, 85].\\n5. Penugasan ke Kolom \"Skor\":\\nHasil dari [100, 85] * (len(data_excel) // 2) akan ditugaskan ke kolom \"Skor\" dalam DataFrame data_excel. Artinya, kolom \"Skor\" akan diisi\\ndengan nilai-nilai yang dihasilkan dari operasi tersebut.\\n'"
            ]
          },
          "execution_count": 9,
          "metadata": {},
          "output_type": "execute_result"
        }
      ],
      "source": [
        "# Menggabungkan dua kolom\n",
        "data_excel[\"Skor\"] = [100, 85] * (len(data_excel) // 2)\n",
        "print(data_excel)\n",
        "\n",
        "\"\"\"\n",
        "1. data_excel[\"Skor\"]:\n",
        "Ini adalah sintaks untuk mengakses atau membuat kolom baru dalam DataFrame data_excel. Jika kolom \"Skor\" belum ada, kolom tersebut akan dibuat.\n",
        "Jika sudah ada, nilai-nilainya akan diganti dengan nilai yang diberikan.\n",
        "2. [100, 85] * (len(data_excel) // 2):\n",
        "[100, 85] adalah sebuah list yang berisi dua nilai, yaitu 100 dan 85.\n",
        "3. len(data_excel) mengembalikan jumlah baris dalam DataFrame data_excel.\n",
        "len(data_excel) // 2 melakukan pembagian integer (divisi) dengan 2, yang menghasilkan setengah dari jumlah baris dalam DataFrame.\n",
        "4. [100, 85] * (len(data_excel) // 2) mengulang list [100, 85] sebanyak len(data_excel) // 2 kali. Misalnya, jika len(data_excel) adalah 6,\n",
        "maka [100, 85] * 3 akan menghasilkan [100, 85, 100, 85, 100, 85].\n",
        "5. Penugasan ke Kolom \"Skor\":\n",
        "Hasil dari [100, 85] * (len(data_excel) // 2) akan ditugaskan ke kolom \"Skor\" dalam DataFrame data_excel. Artinya, kolom \"Skor\" akan diisi\n",
        "dengan nilai-nilai yang dihasilkan dari operasi tersebut.\n",
        "\"\"\""
      ]
    },
    {
      "cell_type": "markdown",
      "metadata": {
        "id": "v9cIjJBufi0c"
      },
      "source": [
        "# **5. Menyimpan Data dari Python**"
      ]
    },
    {
      "cell_type": "code",
      "execution_count": 10,
      "metadata": {
        "id": "WH83mfx9foPl"
      },
      "outputs": [],
      "source": [
        "data_excel.to_excel(\"Data/data_baru.xlsx\", index=False) # excel\n",
        "data_excel.to_csv(\"Data/data_baru.csv\", index=False) # csv"
      ]
    },
    {
      "cell_type": "markdown",
      "metadata": {
        "id": "1i0i3xZYf3fC"
      },
      "source": [
        "# **6. Pustaka untuk Analisis Regresi**\n",
        "Beberapa pustaka populer:\n",
        "*   statsmodels: Untuk analisis regresi linear dan model statistik lainnya\n",
        "*   scikit-learn: Untuk machine learning, termasuk regresi.\n",
        "*   seaborn: Untuk visualisasi statistik."
      ]
    },
    {
      "cell_type": "markdown",
      "metadata": {
        "id": "VDnpDLU_gNAO"
      },
      "source": [
        "# **7. Menghitung Korelasi**"
      ]
    },
    {
      "cell_type": "code",
      "execution_count": 11,
      "metadata": {
        "colab": {
          "base_uri": "https://localhost:8080/",
          "height": 487
        },
        "id": "PSpwgZRTgR2S",
        "outputId": "3cd3f4ba-1ee6-4574-c9b2-ff93c91758e9"
      },
      "outputs": [
        {
          "name": "stdout",
          "output_type": "stream",
          "text": [
            "          harga      luas\n",
            "harga  1.000000  0.762114\n",
            "luas   0.762114  1.000000\n"
          ]
        },
        {
          "data": {
            "image/png": "[encoded data removed]",
            "text/plain": [
              "<Figure size 640x480 with 2 Axes>"
            ]
          },
          "metadata": {},
          "output_type": "display_data"
        }
      ],
      "source": [
        "harga = [245, 312, 279, 308, 199, 219, 405, 324, 319, 255]\n",
        "luas = [1400, 1600, 1700, 1875, 1100, 1550, 2350, 2450, 1425, 1700]\n",
        "data_rumah = pd.DataFrame({\"harga\": harga, \"luas\": luas})\n",
        "\n",
        "# Menghitung korelasi\n",
        "print(data_rumah.corr())\n",
        "\n",
        "# Visualisasi korelasi\n",
        "import seaborn as sns\n",
        "import matplotlib.pyplot as plt\n",
        "\n",
        "sns.heatmap(data_rumah.corr(), annot=True, cmap=\"coolwarm\")\n",
        "plt.show()"
      ]
    },
    {
      "cell_type": "markdown",
      "metadata": {
        "id": "02x_Sa9IgWoO"
      },
      "source": [
        "# **8. Membuat Scatter Plot**"
      ]
    },
    {
      "cell_type": "code",
      "execution_count": 12,
      "metadata": {
        "colab": {
          "base_uri": "https://localhost:8080/",
          "height": 472
        },
        "id": "EGPPHqhQgeDB",
        "outputId": "aa2b4861-bf01-4a63-8c37-e0704e2ed0e3"
      },
      "outputs": [
        {
          "data": {
            "image/png": "[encoded data removed]",
            "text/plain": [
              "<Figure size 640x480 with 1 Axes>"
            ]
          },
          "metadata": {},
          "output_type": "display_data"
        }
      ],
      "source": [
        "plt.scatter(data_rumah[\"luas\"], data_rumah[\"harga\"])\n",
        "plt.title(\"Scatter Plot Harga vs Luas Lantai\")\n",
        "plt.xlabel(\"Luas Lantai (m^2)\")\n",
        "plt.ylabel(\"Harga Rumah (Rp.Juta)\")\n",
        "plt.show()"
      ]
    },
    {
      "cell_type": "markdown",
      "metadata": {
        "id": "tytryjgggjVa"
      },
      "source": [
        "Gunakan statsmodels untuk regresi linier"
      ]
    },
    {
      "cell_type": "code",
      "execution_count": 13,
      "metadata": {
        "colab": {
          "base_uri": "https://localhost:8080/",
          "height": 472
        },
        "id": "qJFsb94_ggJS",
        "outputId": "00ae73d3-e3e5-4b50-f480-7fe3f2b7b59f"
      },
      "outputs": [
        {
          "data": {
            "image/png": "[encoded data removed]",
            "text/plain": [
              "<Figure size 640x480 with 1 Axes>"
            ]
          },
          "metadata": {},
          "output_type": "display_data"
        }
      ],
      "source": [
        "import statsmodels.api as sm\n",
        "\n",
        "# Model regresi\n",
        "X = sm.add_constant(data_rumah[\"luas\"])\n",
        "y = data_rumah[\"harga\"]\n",
        "model = sm.OLS(y, X).fit()\n",
        "\n",
        "# Plot scatter plot dengan garis regresi\n",
        "plt.scatter(data_rumah[\"luas\"], data_rumah[\"harga\"], label=\"Data\")\n",
        "plt.plot(data_rumah[\"luas\"], model.predict(X), color=\"red\", label=\"Garis Regresi\")\n",
        "plt.title(\"Scatter Plot dengan Garis Regresi\")\n",
        "plt.xlabel(\"Luas Rumah\")\n",
        "plt.ylabel(\"Harga Rumah\")\n",
        "plt.legend()\n",
        "plt.show()"
      ]
    }
  ],
  "metadata": {
    "colab": {
      "provenance": []
    },
    "kernelspec": {
      "display_name": "Python 3",
      "name": "python3"
    },
    "language_info": {
      "codemirror_mode": {
        "name": "ipython",
        "version": 3
      },
      "file_extension": ".py",
      "mimetype": "text/x-python",
      "name": "python",
      "nbconvert_exporter": "python",
      "pygments_lexer": "ipython3",
      "version": "3.12.2"
    }
  },
  "nbformat": 4,
  "nbformat_minor": 0
}
